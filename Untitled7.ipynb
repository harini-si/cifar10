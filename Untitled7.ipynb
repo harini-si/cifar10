{
  "nbformat": 4,
  "nbformat_minor": 0,
  "metadata": {
    "colab": {
      "name": "Untitled7.ipynb",
      "provenance": [],
      "collapsed_sections": [],
      "authorship_tag": "ABX9TyOe7THLxW+ZlCr59vPVrBYi",
      "include_colab_link": true
    },
    "kernelspec": {
      "display_name": "Python 3",
      "name": "python3"
    },
    "language_info": {
      "name": "python"
    },
    "accelerator": "GPU"
  },
  "cells": [
    {
      "cell_type": "markdown",
      "metadata": {
        "id": "view-in-github",
        "colab_type": "text"
      },
      "source": [
        "<a href=\"https://colab.research.google.com/github/harini-si/cifar10/blob/main/Untitled7.ipynb\" target=\"_parent\"><img src=\"https://colab.research.google.com/assets/colab-badge.svg\" alt=\"Open In Colab\"/></a>"
      ]
    },
    {
      "cell_type": "code",
      "metadata": {
        "id": "kfPl0Z_v3ku0"
      },
      "source": [
        "import torch\n",
        "import torch.nn as nn\n",
        "import torch.nn.functional as F\n",
        "import torchvision\n",
        "import torchvision.transforms as transforms\n",
        "import matplotlib.pyplot as plt\n",
        "import numpy as np\n",
        "\n"
      ],
      "execution_count": 1,
      "outputs": []
    },
    {
      "cell_type": "code",
      "metadata": {
        "id": "XwmuVcpW8FZE"
      },
      "source": [
        "device= torch.device('cuda' if torch.cuda.is_available() else 'cpu')"
      ],
      "execution_count": 2,
      "outputs": []
    },
    {
      "cell_type": "code",
      "metadata": {
        "colab": {
          "base_uri": "https://localhost:8080/"
        },
        "id": "lsFg9AGy4K1f",
        "outputId": "9ac6a918-102f-439d-d1c4-f5529e00306d"
      },
      "source": [
        "num_epochs=12\n",
        "batch_size=5\n",
        "learning_rate=0.001\n",
        "\n",
        "\n",
        "transform=transforms.Compose(\n",
        "    [transforms.ToTensor(),transforms.Normalize((0.5,0.5,0.5),(0.5,0.5,0.5))]\n",
        ")\n",
        "train_dataset=torchvision.datasets.CIFAR10(root='./data',train=True,download=True,transform=transform)\n",
        "\n",
        "test_dataset = torchvision.datasets.CIFAR10(root='./data', train=False,\n",
        "                                       download=True, transform=transform)\n",
        "\n",
        "train_loader = torch.utils.data.DataLoader(train_dataset, batch_size=batch_size,\n",
        "                                          shuffle=True)\n",
        "\n",
        "test_loader = torch.utils.data.DataLoader(test_dataset, batch_size=batch_size,\n",
        "                                         shuffle=False)\n",
        "\n",
        "\n",
        "\n",
        "dataiter=iter(train_loader)\n",
        "images,labels=dataiter.next()\n",
        "\n"
      ],
      "execution_count": 9,
      "outputs": [
        {
          "output_type": "stream",
          "text": [
            "Files already downloaded and verified\n",
            "Files already downloaded and verified\n"
          ],
          "name": "stdout"
        }
      ]
    },
    {
      "cell_type": "code",
      "metadata": {
        "id": "_Z5nz1EZ5fVo"
      },
      "source": [
        "class Convnet(nn.Module):\n",
        "  def __init__(self):\n",
        "    super(Convnet,self).__init__()\n",
        "    self.conv1 = nn.Conv2d(3, 32, 3, 1, padding=1)\n",
        "    self.bn1 = nn.BatchNorm2d(32)\n",
        "    self.conv2 = nn.Conv2d(32, 64, 3, 1, padding=1)\n",
        "    self.bn2 = nn.BatchNorm2d(64) \n",
        "    self.conv3 = nn.Conv2d(64, 128, 3, 1, padding=1)\n",
        "    self.bn3 = nn.BatchNorm2d(128) \n",
        "    self.conv4 = nn.Conv2d(128,128, 3, 1, padding=1)\n",
        "    self.bn4 = nn.BatchNorm2d(128) \n",
        "    self.conv5 = nn.Conv2d(128,256, 3, 1, padding=1)\n",
        "    self.bn5 = nn.BatchNorm2d(256) \n",
        "    #self.conv6=  nn.Conv2d(512,256, 3, 1, padding=1)\n",
        "    #self.bn6 = nn.BatchNorm2d(256) \n",
        "    #self.conv7=  nn.Conv2d(256,128, 3, 1, padding=1)\n",
        "    #self.bn7 = nn.BatchNorm2d(128) \n",
        "    self.conv8=  nn.Conv2d(256,256, 3, 1, padding=1)\n",
        "    self.bn8 = nn.BatchNorm2d(256) \n",
        "    self.dropout=nn.Dropout2d(0.5)\n",
        "    \n",
        "\n",
        "\n",
        "\n",
        "    self.fc1 = nn.Linear(256*4*4, 1024) \n",
        "    self.dropout1 = nn.Dropout(0.5)\n",
        "    self.fc2 = nn.Linear(1024, 512) \n",
        "    self.fc3 = nn.Linear(512, 10)\n",
        "  def forward(self, x):\n",
        "      x = F.relu(self.bn1(self.conv1(x))) \n",
        "      #x = F.max_pool2d(x,2,2)\n",
        "      x = F.relu(self.bn2(self.conv2(x)))\n",
        "      x = F.max_pool2d(x,2,2)\n",
        "      x = F.relu(self.bn3(self.conv3(x)))\n",
        "      x = self.dropout(x)\n",
        "      x = F.relu(self.bn4(self.conv4(x)))\n",
        "      x = F.max_pool2d(x,2,2)\n",
        "      x = F.relu(self.bn5(self.conv5(x)))\n",
        "      \n",
        "      #x = F.relu(self.bn6(self.conv6(x)))\n",
        "      #x = F.relu(self.bn7(self.conv7(x)))\n",
        "      #x = self.dropout(x)\n",
        "      x = F.relu(self.bn8(self.conv8(x)))\n",
        "      x = F.max_pool2d(x,2,2)\n",
        "      x = x.view(-1, 256*4*4)\n",
        "      x = F.relu(self.fc1(x))\n",
        "      x = self.dropout1(x)\n",
        "      x = F.relu(self.fc2(x))\n",
        "      x = self.dropout1(x)\n",
        "      x = self.fc3(x)\n",
        "      return x\n",
        "model = Convnet().to(device)\n",
        "\n",
        "criterion = nn.CrossEntropyLoss()\n",
        "optimizer = torch.optim.Adam(model.parameters(), lr=learning_rate, betas=(0.9, 0.999), eps=1e-08, weight_decay=0, amsgrad=False)\n",
        "\n",
        "\n"
      ],
      "execution_count": 4,
      "outputs": []
    },
    {
      "cell_type": "code",
      "metadata": {
        "colab": {
          "base_uri": "https://localhost:8080/"
        },
        "id": "UN7dzy1VGhXt",
        "outputId": "5d98eb2f-9684-4661-c600-d2644e73f1ef"
      },
      "source": [
        "model"
      ],
      "execution_count": 5,
      "outputs": [
        {
          "output_type": "execute_result",
          "data": {
            "text/plain": [
              "Convnet(\n",
              "  (conv1): Conv2d(3, 32, kernel_size=(3, 3), stride=(1, 1), padding=(1, 1))\n",
              "  (bn1): BatchNorm2d(32, eps=1e-05, momentum=0.1, affine=True, track_running_stats=True)\n",
              "  (conv2): Conv2d(32, 64, kernel_size=(3, 3), stride=(1, 1), padding=(1, 1))\n",
              "  (bn2): BatchNorm2d(64, eps=1e-05, momentum=0.1, affine=True, track_running_stats=True)\n",
              "  (conv3): Conv2d(64, 128, kernel_size=(3, 3), stride=(1, 1), padding=(1, 1))\n",
              "  (bn3): BatchNorm2d(128, eps=1e-05, momentum=0.1, affine=True, track_running_stats=True)\n",
              "  (conv4): Conv2d(128, 128, kernel_size=(3, 3), stride=(1, 1), padding=(1, 1))\n",
              "  (bn4): BatchNorm2d(128, eps=1e-05, momentum=0.1, affine=True, track_running_stats=True)\n",
              "  (conv5): Conv2d(128, 256, kernel_size=(3, 3), stride=(1, 1), padding=(1, 1))\n",
              "  (bn5): BatchNorm2d(256, eps=1e-05, momentum=0.1, affine=True, track_running_stats=True)\n",
              "  (conv8): Conv2d(256, 256, kernel_size=(3, 3), stride=(1, 1), padding=(1, 1))\n",
              "  (bn8): BatchNorm2d(256, eps=1e-05, momentum=0.1, affine=True, track_running_stats=True)\n",
              "  (dropout): Dropout2d(p=0.5, inplace=False)\n",
              "  (fc1): Linear(in_features=4096, out_features=1024, bias=True)\n",
              "  (dropout1): Dropout(p=0.5, inplace=False)\n",
              "  (fc2): Linear(in_features=1024, out_features=512, bias=True)\n",
              "  (fc3): Linear(in_features=512, out_features=10, bias=True)\n",
              ")"
            ]
          },
          "metadata": {
            "tags": []
          },
          "execution_count": 5
        }
      ]
    },
    {
      "cell_type": "code",
      "metadata": {
        "colab": {
          "base_uri": "https://localhost:8080/"
        },
        "id": "iUF7zUuA62Ee",
        "outputId": "03c8020e-52c4-4ecd-dae9-af4ddcc476ff"
      },
      "source": [
        "n_total_steps = len(train_loader)\n",
        "for epoch in range(num_epochs):\n",
        "   \n",
        "    correct=0\n",
        "    total=0\n",
        "    for i, (images, labels) in enumerate(train_loader):\n",
        "      \n",
        "        images = images.to(device)\n",
        "        labels = labels.to(device)\n",
        "\n",
        "        \n",
        "        outputs = model(images)\n",
        "        loss = criterion(outputs, labels)\n",
        "\n",
        "        \n",
        "        optimizer.zero_grad()\n",
        "        loss.backward()\n",
        "        optimizer.step()\n",
        "       \n",
        "        \n",
        "    \n",
        "        _, predicted = outputs.max(1)\n",
        "        total += labels.size(0)\n",
        "        correct += predicted.eq(labels).sum().item()\n",
        "      \n",
        "\n",
        "        if (i+1) % 1000 == 0:\n",
        "            print (f'Epoch [{epoch+1}/{num_epochs}], Step [{i+1}/{n_total_steps}], Loss: {loss.item():.4f}')\n",
        "      \n",
        "    \n",
        "    accu= 100 * correct / len(train_dataset)\n",
        "    print(f'Epoch [{epoch+1}/{num_epochs}], train_accuracy: {accu:.4f} %')       \n",
        "\n",
        "print('Finished Training')\n",
        "PATH = './cnn.pth'\n",
        "torch.save(model.state_dict(), PATH)\n",
        "\n",
        "with torch.no_grad():\n",
        "    n_correct = 0\n",
        "    n_samples = 0\n",
        "    n_class_correct = [0 for i in range(10)]\n",
        "    n_class_samples = [0 for i in range(10)]\n",
        "    for images, labels in test_loader:\n",
        "        images = images.to(device)\n",
        "        labels = labels.to(device)\n",
        "        outputs = model(images)\n",
        "        # max returns (value ,index)\n",
        "        _, predicted = torch.max(outputs, 1)\n",
        "        n_samples += labels.size(0)\n",
        "        n_correct += (predicted == labels).sum().item()\n",
        "\n",
        "        for i in range(batch_size):\n",
        "            label = labels[i]\n",
        "            pred = predicted[i]\n",
        "            if (label == pred):\n",
        "                n_class_correct[label] += 1\n",
        "            n_class_samples[label] += 1\n",
        "\n",
        "    acc = 100.0 * n_correct / n_samples\n",
        "print(f'Accuracy of the network: {acc} %')\n",
        "\n",
        "   "
      ],
      "execution_count": 10,
      "outputs": [
        {
          "output_type": "stream",
          "text": [
            "Epoch [1/12], Step [1000/10000], Loss: 0.0410\n",
            "Epoch [1/12], Step [2000/10000], Loss: 0.6247\n",
            "Epoch [1/12], Step [3000/10000], Loss: 0.7833\n",
            "Epoch [1/12], Step [4000/10000], Loss: 0.8768\n",
            "Epoch [1/12], Step [5000/10000], Loss: 0.2740\n",
            "Epoch [1/12], Step [6000/10000], Loss: 0.5071\n",
            "Epoch [1/12], Step [7000/10000], Loss: 0.7790\n",
            "Epoch [1/12], Step [8000/10000], Loss: 0.3451\n",
            "Epoch [1/12], Step [9000/10000], Loss: 0.2428\n",
            "Epoch [1/12], Step [10000/10000], Loss: 2.1118\n",
            "Epoch [1/12], train_accuracy: 72.1540 %\n",
            "Epoch [2/12], Step [1000/10000], Loss: 0.5678\n",
            "Epoch [2/12], Step [2000/10000], Loss: 1.1525\n",
            "Epoch [2/12], Step [3000/10000], Loss: 0.6989\n",
            "Epoch [2/12], Step [4000/10000], Loss: 0.4101\n",
            "Epoch [2/12], Step [5000/10000], Loss: 0.5043\n",
            "Epoch [2/12], Step [6000/10000], Loss: 1.1672\n",
            "Epoch [2/12], Step [7000/10000], Loss: 0.8086\n",
            "Epoch [2/12], Step [9000/10000], Loss: 0.4401\n",
            "Epoch [2/12], Step [10000/10000], Loss: 0.9870\n",
            "Epoch [2/12], train_accuracy: 72.8960 %\n",
            "Epoch [3/12], Step [1000/10000], Loss: 3.8700\n",
            "Epoch [3/12], Step [2000/10000], Loss: 0.3015\n",
            "Epoch [3/12], Step [3000/10000], Loss: 1.0802\n",
            "Epoch [3/12], Step [4000/10000], Loss: 1.3161\n",
            "Epoch [3/12], Step [5000/10000], Loss: 0.3563\n",
            "Epoch [3/12], Step [6000/10000], Loss: 1.0826\n",
            "Epoch [3/12], Step [7000/10000], Loss: 0.6108\n",
            "Epoch [3/12], Step [8000/10000], Loss: 1.1110\n",
            "Epoch [3/12], Step [9000/10000], Loss: 0.7723\n",
            "Epoch [3/12], Step [10000/10000], Loss: 0.1614\n",
            "Epoch [3/12], train_accuracy: 73.6060 %\n",
            "Epoch [4/12], Step [1000/10000], Loss: 0.4526\n",
            "Epoch [4/12], Step [3000/10000], Loss: 0.6007\n",
            "Epoch [4/12], Step [4000/10000], Loss: 0.7564\n",
            "Epoch [4/12], Step [5000/10000], Loss: 1.5287\n",
            "Epoch [4/12], Step [6000/10000], Loss: 1.1108\n",
            "Epoch [4/12], Step [7000/10000], Loss: 1.4457\n",
            "Epoch [4/12], Step [8000/10000], Loss: 0.1507\n",
            "Epoch [4/12], Step [9000/10000], Loss: 0.9935\n",
            "Epoch [4/12], Step [10000/10000], Loss: 0.6386\n",
            "Epoch [4/12], train_accuracy: 74.2200 %\n",
            "Epoch [5/12], Step [1000/10000], Loss: 0.7084\n",
            "Epoch [5/12], Step [2000/10000], Loss: 0.6317\n",
            "Epoch [5/12], Step [3000/10000], Loss: 0.8081\n",
            "Epoch [5/12], Step [4000/10000], Loss: 0.2770\n",
            "Epoch [5/12], Step [5000/10000], Loss: 0.8156\n",
            "Epoch [5/12], Step [6000/10000], Loss: 1.0264\n",
            "Epoch [5/12], Step [7000/10000], Loss: 1.6195\n",
            "Epoch [5/12], Step [8000/10000], Loss: 0.8687\n",
            "Epoch [5/12], Step [9000/10000], Loss: 1.5072\n",
            "Epoch [5/12], Step [10000/10000], Loss: 0.8599\n",
            "Epoch [5/12], train_accuracy: 74.7400 %\n",
            "Epoch [6/12], Step [1000/10000], Loss: 1.2398\n",
            "Epoch [6/12], Step [2000/10000], Loss: 0.3982\n",
            "Epoch [6/12], Step [3000/10000], Loss: 0.4679\n",
            "Epoch [6/12], Step [4000/10000], Loss: 0.8239\n",
            "Epoch [6/12], Step [5000/10000], Loss: 0.6414\n",
            "Epoch [6/12], Step [6000/10000], Loss: 0.8468\n",
            "Epoch [6/12], Step [7000/10000], Loss: 0.6429\n",
            "Epoch [6/12], Step [8000/10000], Loss: 0.6921\n",
            "Epoch [6/12], Step [9000/10000], Loss: 1.1031\n",
            "Epoch [6/12], Step [10000/10000], Loss: 0.9074\n",
            "Epoch [6/12], train_accuracy: 75.2740 %\n",
            "Epoch [7/12], Step [1000/10000], Loss: 0.2295\n",
            "Epoch [7/12], Step [2000/10000], Loss: 0.3844\n",
            "Epoch [7/12], Step [3000/10000], Loss: 0.8823\n",
            "Epoch [7/12], Step [4000/10000], Loss: 0.5971\n",
            "Epoch [7/12], Step [5000/10000], Loss: 0.5222\n",
            "Epoch [7/12], Step [6000/10000], Loss: 0.5834\n",
            "Epoch [7/12], Step [7000/10000], Loss: 0.5175\n",
            "Epoch [7/12], Step [8000/10000], Loss: 0.6825\n",
            "Epoch [7/12], Step [9000/10000], Loss: 0.4984\n",
            "Epoch [7/12], Step [10000/10000], Loss: 0.1099\n",
            "Epoch [7/12], train_accuracy: 75.9740 %\n",
            "Epoch [8/12], Step [1000/10000], Loss: 0.4957\n",
            "Epoch [8/12], Step [2000/10000], Loss: 0.6811\n",
            "Epoch [8/12], Step [3000/10000], Loss: 1.3068\n",
            "Epoch [8/12], Step [4000/10000], Loss: 0.1426\n",
            "Epoch [8/12], Step [5000/10000], Loss: 0.7313\n",
            "Epoch [8/12], Step [6000/10000], Loss: 0.2440\n",
            "Epoch [8/12], Step [7000/10000], Loss: 1.3575\n",
            "Epoch [8/12], Step [8000/10000], Loss: 0.3295\n",
            "Epoch [8/12], Step [9000/10000], Loss: 1.0133\n",
            "Epoch [8/12], Step [10000/10000], Loss: 0.8788\n",
            "Epoch [8/12], train_accuracy: 76.5140 %\n",
            "Epoch [9/12], Step [1000/10000], Loss: 0.1255\n",
            "Epoch [9/12], Step [2000/10000], Loss: 0.5338\n",
            "Epoch [9/12], Step [3000/10000], Loss: 0.6603\n",
            "Epoch [9/12], Step [4000/10000], Loss: 0.7928\n",
            "Epoch [9/12], Step [5000/10000], Loss: 0.7997\n",
            "Epoch [9/12], Step [6000/10000], Loss: 1.1697\n",
            "Epoch [9/12], Step [7000/10000], Loss: 0.9751\n",
            "Epoch [9/12], Step [8000/10000], Loss: 0.6264\n",
            "Epoch [9/12], Step [9000/10000], Loss: 0.7793\n",
            "Epoch [10/12], Step [1000/10000], Loss: 1.3021\n",
            "Epoch [10/12], Step [2000/10000], Loss: 0.9074\n",
            "Epoch [10/12], Step [3000/10000], Loss: 0.2323\n",
            "Epoch [10/12], Step [5000/10000], Loss: 0.9267\n",
            "Epoch [10/12], Step [6000/10000], Loss: 0.7487\n",
            "Epoch [10/12], Step [7000/10000], Loss: 0.1476\n",
            "Epoch [10/12], Step [8000/10000], Loss: 0.2689\n",
            "Epoch [10/12], Step [9000/10000], Loss: 0.3277\n",
            "Epoch [10/12], Step [10000/10000], Loss: 0.3527\n",
            "Epoch [10/12], train_accuracy: 77.7060 %\n",
            "Epoch [11/12], Step [1000/10000], Loss: 0.7741\n",
            "Epoch [11/12], Step [2000/10000], Loss: 0.7868\n",
            "Epoch [11/12], Step [3000/10000], Loss: 1.0394\n",
            "Epoch [11/12], Step [4000/10000], Loss: 0.4852\n",
            "Epoch [11/12], Step [5000/10000], Loss: 0.2950\n",
            "Epoch [11/12], Step [6000/10000], Loss: 0.5322\n",
            "Epoch [11/12], Step [7000/10000], Loss: 1.6038\n",
            "Epoch [11/12], Step [9000/10000], Loss: 0.5791\n",
            "Epoch [11/12], Step [10000/10000], Loss: 0.6635\n",
            "Epoch [11/12], train_accuracy: 77.7700 %\n",
            "Epoch [12/12], Step [1000/10000], Loss: 0.1962\n",
            "Epoch [12/12], Step [2000/10000], Loss: 0.2781\n",
            "Epoch [12/12], Step [3000/10000], Loss: 0.8809\n",
            "Epoch [12/12], Step [5000/10000], Loss: 0.5899\n",
            "Epoch [12/12], Step [6000/10000], Loss: 1.0702\n",
            "Epoch [12/12], Step [7000/10000], Loss: 0.5173\n",
            "Epoch [12/12], Step [8000/10000], Loss: 0.2380\n",
            "Epoch [12/12], Step [9000/10000], Loss: 0.1476\n",
            "Epoch [12/12], Step [10000/10000], Loss: 0.4427\n",
            "Epoch [12/12], train_accuracy: 78.1180 %\n",
            "Finished Training\n"
          ],
          "name": "stdout"
        }
      ]
    },
    {
      "cell_type": "code",
      "metadata": {
        "id": "GGA_Dr7EfD1v"
      },
      "source": [
        ""
      ],
      "execution_count": null,
      "outputs": []
    }
  ]
}